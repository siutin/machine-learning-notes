{
 "cells": [
  {
   "cell_type": "code",
   "execution_count": 1,
   "id": "1a42fe85",
   "metadata": {},
   "outputs": [
    {
     "data": {
      "text/html": [
       "<style>.container { width:100% !important; }</style>"
      ],
      "text/plain": [
       "<IPython.core.display.HTML object>"
      ]
     },
     "metadata": {},
     "output_type": "display_data"
    }
   ],
   "source": [
    "from IPython.display import display, HTML\n",
    "display(HTML(\"<style>.container { width:100% !important; }</style>\"))"
   ]
  },
  {
   "cell_type": "code",
   "execution_count": 2,
   "id": "8d75084d",
   "metadata": {},
   "outputs": [],
   "source": [
    "# Load the TensorBoard notebook extension.\n",
    "%load_ext tensorboard"
   ]
  },
  {
   "cell_type": "code",
   "execution_count": 3,
   "id": "f9f16fb5",
   "metadata": {},
   "outputs": [
    {
     "name": "stderr",
     "output_type": "stream",
     "text": [
      "2024-09-13 20:34:11.967531: I tensorflow/core/platform/cpu_feature_guard.cc:210] This TensorFlow binary is optimized to use available CPU instructions in performance-critical operations.\n",
      "To enable the following instructions: AVX2 FMA, in other operations, rebuild TensorFlow with the appropriate compiler flags.\n",
      "/home/martin/miniconda3/envs/jupyter/lib/python3.9/site-packages/scipy/__init__.py:146: UserWarning: A NumPy version >=1.17.3 and <1.25.0 is required for this version of SciPy (detected version 1.26.4\n",
      "  warnings.warn(f\"A NumPy version >={np_minversion} and <{np_maxversion}\"\n"
     ]
    },
    {
     "name": "stdout",
     "output_type": "stream",
     "text": [
      "TensorFlow version:  2.17.0\n"
     ]
    }
   ],
   "source": [
    "from datetime import datetime\n",
    "from packaging import version\n",
    "\n",
    "import tensorflow as tf\n",
    "from tensorflow import keras\n",
    "\n",
    "print(\"TensorFlow version: \", tf.__version__)\n",
    "assert version.parse(tf.__version__).release[0] >= 2, \\\n",
    "    \"This notebook requires TensorFlow 2.0 or above.\""
   ]
  },
  {
   "cell_type": "code",
   "execution_count": 4,
   "id": "d29e0a12",
   "metadata": {},
   "outputs": [
    {
     "data": {
      "text/plain": [
       "'2.17.1'"
      ]
     },
     "execution_count": 4,
     "metadata": {},
     "output_type": "execute_result"
    }
   ],
   "source": [
    "import tensorboard\n",
    "tensorboard.__version__"
   ]
  },
  {
   "cell_type": "code",
   "execution_count": 5,
   "id": "0643742f",
   "metadata": {},
   "outputs": [
    {
     "name": "stderr",
     "output_type": "stream",
     "text": [
      "/home/martin/miniconda3/envs/jupyter/lib/python3.9/site-packages/keras/src/ops/nn.py:545: UserWarning: You are using a softmax over axis 3 of a tensor of shape (None, 2, 1, 1). This axis has size 1. The softmax operation will always return the value 1, which is likely not what you intended. Did you mean to use a sigmoid instead?\n",
      "  warnings.warn(\n"
     ]
    },
    {
     "name": "stdout",
     "output_type": "stream",
     "text": [
      "\u001b[1m4/4\u001b[0m \u001b[32m━━━━━━━━━━━━━━━━━━━━\u001b[0m\u001b[37m\u001b[0m \u001b[1m0s\u001b[0m 39ms/step\n"
     ]
    },
    {
     "name": "stderr",
     "output_type": "stream",
     "text": [
      "/home/martin/miniconda3/envs/jupyter/lib/python3.9/site-packages/keras/src/ops/nn.py:545: UserWarning: You are using a softmax over axis 3 of a tensor of shape (32, 2, 1, 1). This axis has size 1. The softmax operation will always return the value 1, which is likely not what you intended. Did you mean to use a sigmoid instead?\n",
      "  warnings.warn(\n"
     ]
    },
    {
     "name": "stdout",
     "output_type": "stream",
     "text": [
      "[[[ 2.984817 ]]\n",
      "\n",
      " [[ 3.7314997]]\n",
      "\n",
      " [[ 4.4781814]]\n",
      "\n",
      " [[ 5.224864 ]]\n",
      "\n",
      " [[ 5.9715466]]\n",
      "\n",
      " [[ 6.718228 ]]\n",
      "\n",
      " [[ 7.464911 ]]\n",
      "\n",
      " [[ 8.211593 ]]\n",
      "\n",
      " [[ 8.958276 ]]\n",
      "\n",
      " [[ 9.704958 ]]\n",
      "\n",
      " [[10.45164  ]]\n",
      "\n",
      " [[11.198324 ]]\n",
      "\n",
      " [[11.945004 ]]\n",
      "\n",
      " [[12.6916895]]\n",
      "\n",
      " [[13.438368 ]]\n",
      "\n",
      " [[14.185052 ]]\n",
      "\n",
      " [[14.931733 ]]\n",
      "\n",
      " [[15.678414 ]]\n",
      "\n",
      " [[16.425098 ]]\n",
      "\n",
      " [[17.17178  ]]\n",
      "\n",
      " [[17.918463 ]]\n",
      "\n",
      " [[18.665146 ]]\n",
      "\n",
      " [[19.411827 ]]\n",
      "\n",
      " [[20.15851  ]]\n",
      "\n",
      " [[20.905193 ]]\n",
      "\n",
      " [[21.651875 ]]\n",
      "\n",
      " [[22.398554 ]]\n",
      "\n",
      " [[23.145243 ]]\n",
      "\n",
      " [[23.891922 ]]\n",
      "\n",
      " [[24.638603 ]]\n",
      "\n",
      " [[25.385286 ]]\n",
      "\n",
      " [[26.13197  ]]\n",
      "\n",
      " [[26.878647 ]]\n",
      "\n",
      " [[27.625334 ]]\n",
      "\n",
      " [[28.372013 ]]\n",
      "\n",
      " [[29.118698 ]]\n",
      "\n",
      " [[29.865376 ]]\n",
      "\n",
      " [[30.61206  ]]\n",
      "\n",
      " [[31.358744 ]]\n",
      "\n",
      " [[32.105427 ]]\n",
      "\n",
      " [[32.852108 ]]\n",
      "\n",
      " [[33.59879  ]]\n",
      "\n",
      " [[34.345474 ]]\n",
      "\n",
      " [[35.092155 ]]\n",
      "\n",
      " [[35.83884  ]]\n",
      "\n",
      " [[36.58552  ]]\n",
      "\n",
      " [[37.332207 ]]\n",
      "\n",
      " [[38.078888 ]]\n",
      "\n",
      " [[38.82557  ]]\n",
      "\n",
      " [[39.572254 ]]\n",
      "\n",
      " [[40.318935 ]]\n",
      "\n",
      " [[41.065613 ]]\n",
      "\n",
      " [[41.812294 ]]\n",
      "\n",
      " [[42.558983 ]]\n",
      "\n",
      " [[43.305664 ]]\n",
      "\n",
      " [[44.052338 ]]\n",
      "\n",
      " [[44.799034 ]]\n",
      "\n",
      " [[45.54571  ]]\n",
      "\n",
      " [[46.29239  ]]\n",
      "\n",
      " [[47.03907  ]]\n",
      "\n",
      " [[47.78575  ]]\n",
      "\n",
      " [[48.532433 ]]\n",
      "\n",
      " [[49.279114 ]]\n",
      "\n",
      " [[50.025803 ]]\n",
      "\n",
      " [[50.772476 ]]\n",
      "\n",
      " [[51.519165 ]]\n",
      "\n",
      " [[52.265854 ]]\n",
      "\n",
      " [[53.012535 ]]\n",
      "\n",
      " [[53.75921  ]]\n",
      "\n",
      " [[54.505898 ]]\n",
      "\n",
      " [[55.25258  ]]\n",
      "\n",
      " [[55.99926  ]]\n",
      "\n",
      " [[56.745937 ]]\n",
      "\n",
      " [[57.492622 ]]\n",
      "\n",
      " [[58.239315 ]]\n",
      "\n",
      " [[58.98599  ]]\n",
      "\n",
      " [[59.732666 ]]\n",
      "\n",
      " [[60.47935  ]]\n",
      "\n",
      " [[61.226036 ]]\n",
      "\n",
      " [[61.972717 ]]\n",
      "\n",
      " [[62.719406 ]]\n",
      "\n",
      " [[63.466076 ]]\n",
      "\n",
      " [[64.21276  ]]\n",
      "\n",
      " [[64.95945  ]]\n",
      "\n",
      " [[65.70613  ]]\n",
      "\n",
      " [[66.45281  ]]\n",
      "\n",
      " [[67.1995   ]]\n",
      "\n",
      " [[67.94618  ]]\n",
      "\n",
      " [[68.69286  ]]\n",
      "\n",
      " [[69.439545 ]]\n",
      "\n",
      " [[70.186226 ]]\n",
      "\n",
      " [[70.93291  ]]\n",
      "\n",
      " [[71.67959  ]]\n",
      "\n",
      " [[72.42627  ]]\n",
      "\n",
      " [[73.17296  ]]\n",
      "\n",
      " [[73.91963  ]]\n",
      "\n",
      " [[74.66633  ]]\n",
      "\n",
      " [[75.41301  ]]\n",
      "\n",
      " [[76.15969  ]]]\n"
     ]
    }
   ],
   "source": [
    "import numpy as np\n",
    "import tensorflow as tf\n",
    "from transformers import TFAutoModel, AutoTokenizer\n",
    "\n",
    "# Sample data\n",
    "data = np.array([[i, i + 1] for i in range(100)])  # 100 time steps with 2 features\n",
    "X = data[:-1]  # All but the last\n",
    "y = data[1:, 0]  # Predict the first feature of the next time step\n",
    "\n",
    "# Reshape data for Transformer: (samples, time steps, features)\n",
    "X = X.reshape((X.shape[0], 1, X.shape[1]))\n",
    "\n",
    "# Define a simple Transformer model\n",
    "class SimpleTransformer(tf.keras.Model):\n",
    "    def __init__(self, num_heads, d_model):\n",
    "        super(SimpleTransformer, self).__init__()\n",
    "        self.attention = tf.keras.layers.MultiHeadAttention(num_heads=num_heads, key_dim=d_model)\n",
    "        self.dense = tf.keras.layers.Dense(1)\n",
    "\n",
    "    def call(self, x):\n",
    "        attn_output = self.attention(x, x)\n",
    "        return self.dense(attn_output)\n",
    "\n",
    "# Build and compile the model\n",
    "model = SimpleTransformer(num_heads=2, d_model=2)\n",
    "model.compile(optimizer='adam', loss='mean_squared_error')\n",
    "\n",
    "# Train the model\n",
    "model.fit(X, y, epochs=200, verbose=0)\n",
    "\n",
    "# Make predictions\n",
    "predictions = model.predict(X)\n",
    "print(predictions)"
   ]
  },
  {
   "cell_type": "code",
   "execution_count": 6,
   "id": "86a62fd7",
   "metadata": {
    "scrolled": true
   },
   "outputs": [
    {
     "name": "stdout",
     "output_type": "stream",
     "text": [
      "\u001b[1m1/1\u001b[0m \u001b[32m━━━━━━━━━━━━━━━━━━━━\u001b[0m\u001b[37m\u001b[0m \u001b[1m0s\u001b[0m 152ms/step\n"
     ]
    },
    {
     "name": "stderr",
     "output_type": "stream",
     "text": [
      "/home/martin/miniconda3/envs/jupyter/lib/python3.9/site-packages/keras/src/ops/nn.py:545: UserWarning: You are using a softmax over axis 3 of a tensor of shape (1, 2, 1, 1). This axis has size 1. The softmax operation will always return the value 1, which is likely not what you intended. Did you mean to use a sigmoid instead?\n",
      "  warnings.warn(\n"
     ]
    },
    {
     "data": {
      "text/plain": [
       "array([[[55.25258]]], dtype=float32)"
      ]
     },
     "execution_count": 6,
     "metadata": {},
     "output_type": "execute_result"
    }
   ],
   "source": [
    "model.predict(np.array([[70.0, 71.0]]).reshape(1, 1, 2))"
   ]
  },
  {
   "cell_type": "code",
   "execution_count": 7,
   "id": "0444e265",
   "metadata": {},
   "outputs": [
    {
     "name": "stdout",
     "output_type": "stream",
     "text": [
      "\u001b[1m4/4\u001b[0m \u001b[32m━━━━━━━━━━━━━━━━━━━━\u001b[0m\u001b[37m\u001b[0m \u001b[1m0s\u001b[0m 3ms/step \n"
     ]
    },
    {
     "data": {
      "image/png": "[encoded data removed]",
      "text/plain": [
       "<Figure size 864x432 with 1 Axes>"
      ]
     },
     "metadata": {
      "needs_background": "light"
     },
     "output_type": "display_data"
    }
   ],
   "source": [
    "import matplotlib.pyplot as plt\n",
    "\n",
    "# Make predictions\n",
    "predictions = model.predict(X)\n",
    "\n",
    "# Reshape predictions to match the shape of y\n",
    "predictions = predictions.reshape(-1)  # Flatten the predictions to 1D\n",
    "\n",
    "# Plot original data and predictions\n",
    "plt.figure(figsize=(12, 6))\n",
    "\n",
    "# Plot original y values\n",
    "plt.plot(y, label='Original y', color='blue')\n",
    "\n",
    "# Plot predictions\n",
    "plt.plot(predictions, label='Predictions', color='red', linestyle='--')\n",
    "\n",
    "# Adding labels and title\n",
    "plt.title('Original y vs Predictions')\n",
    "plt.xlabel('Time Step')\n",
    "plt.ylabel('Value')\n",
    "plt.legend()\n",
    "plt.grid()\n",
    "\n",
    "# Show the plot\n",
    "plt.show()"
   ]
  },
  {
   "cell_type": "code",
   "execution_count": null,
   "id": "6713309a",
   "metadata": {},
   "outputs": [
    {
     "data": {
      "text/plain": [
       "Launching TensorBoard..."
      ]
     },
     "metadata": {},
     "output_type": "display_data"
    }
   ],
   "source": [
    "%tensorboard --logdir logs"
   ]
  }
 ],
 "metadata": {
  "kernelspec": {
   "display_name": "Python 3 (ipykernel)",
   "language": "python",
   "name": "python3"
  },
  "language_info": {
   "codemirror_mode": {
    "name": "ipython",
    "version": 3
   },
   "file_extension": ".py",
   "mimetype": "text/x-python",
   "name": "python",
   "nbconvert_exporter": "python",
   "pygments_lexer": "ipython3",
   "version": "3.9.12"
  }
 },
 "nbformat": 4,
 "nbformat_minor": 5
}
