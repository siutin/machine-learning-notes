{
 "cells": [
  {
   "cell_type": "code",
   "execution_count": 1,
   "id": "1a42fe85",
   "metadata": {},
   "outputs": [
    {
     "data": {
      "text/html": [
       "<style>.container { width:100% !important; }</style>"
      ],
      "text/plain": [
       "<IPython.core.display.HTML object>"
      ]
     },
     "metadata": {},
     "output_type": "display_data"
    }
   ],
   "source": [
    "from IPython.display import display, HTML\n",
    "display(HTML(\"<style>.container { width:100% !important; }</style>\"))"
   ]
  },
  {
   "cell_type": "code",
   "execution_count": 2,
   "id": "8d75084d",
   "metadata": {},
   "outputs": [],
   "source": [
    "# Load the TensorBoard notebook extension.\n",
    "%load_ext tensorboard"
   ]
  },
  {
   "cell_type": "code",
   "execution_count": 3,
   "id": "f9f16fb5",
   "metadata": {},
   "outputs": [
    {
     "name": "stderr",
     "output_type": "stream",
     "text": [
      "2024-09-13 20:30:57.496512: I tensorflow/core/platform/cpu_feature_guard.cc:210] This TensorFlow binary is optimized to use available CPU instructions in performance-critical operations.\n",
      "To enable the following instructions: AVX2 FMA, in other operations, rebuild TensorFlow with the appropriate compiler flags.\n",
      "/home/martin/miniconda3/envs/jupyter/lib/python3.9/site-packages/scipy/__init__.py:146: UserWarning: A NumPy version >=1.17.3 and <1.25.0 is required for this version of SciPy (detected version 1.26.4\n",
      "  warnings.warn(f\"A NumPy version >={np_minversion} and <{np_maxversion}\"\n"
     ]
    },
    {
     "name": "stdout",
     "output_type": "stream",
     "text": [
      "TensorFlow version:  2.17.0\n"
     ]
    }
   ],
   "source": [
    "from datetime import datetime\n",
    "from packaging import version\n",
    "\n",
    "import tensorflow as tf\n",
    "from tensorflow import keras\n",
    "\n",
    "print(\"TensorFlow version: \", tf.__version__)\n",
    "assert version.parse(tf.__version__).release[0] >= 2, \\\n",
    "    \"This notebook requires TensorFlow 2.0 or above.\""
   ]
  },
  {
   "cell_type": "code",
   "execution_count": 4,
   "id": "d29e0a12",
   "metadata": {},
   "outputs": [
    {
     "data": {
      "text/plain": [
       "'2.17.1'"
      ]
     },
     "execution_count": 4,
     "metadata": {},
     "output_type": "execute_result"
    }
   ],
   "source": [
    "import tensorboard\n",
    "tensorboard.__version__"
   ]
  },
  {
   "cell_type": "code",
   "execution_count": 5,
   "id": "fd50e9ed",
   "metadata": {
    "scrolled": true
   },
   "outputs": [
    {
     "name": "stderr",
     "output_type": "stream",
     "text": [
      "/home/martin/miniconda3/envs/jupyter/lib/python3.9/site-packages/keras/src/layers/rnn/rnn.py:204: UserWarning: Do not pass an `input_shape`/`input_dim` argument to a layer. When using Sequential models, prefer using an `Input(shape)` object as the first layer in the model instead.\n",
      "  super().__init__(**kwargs)\n"
     ]
    },
    {
     "name": "stdout",
     "output_type": "stream",
     "text": [
      "\u001b[1m4/4\u001b[0m \u001b[32m━━━━━━━━━━━━━━━━━━━━\u001b[0m\u001b[37m\u001b[0m \u001b[1m0s\u001b[0m 70ms/step\n",
      "[[ 0.54816055]\n",
      " [ 1.1934348 ]\n",
      " [ 2.0129402 ]\n",
      " [ 2.9410205 ]\n",
      " [ 3.9247842 ]\n",
      " [ 4.9324417 ]\n",
      " [ 5.9481854 ]\n",
      " [ 6.965373  ]\n",
      " [ 7.9819565 ]\n",
      " [ 8.997869  ]\n",
      " [10.013717  ]\n",
      " [11.030201  ]\n",
      " [12.047901  ]\n",
      " [13.067201  ]\n",
      " [14.08832   ]\n",
      " [15.111322  ]\n",
      " [16.136168  ]\n",
      " [17.162724  ]\n",
      " [18.190817  ]\n",
      " [19.220232  ]\n",
      " [20.250732  ]\n",
      " [21.282087  ]\n",
      " [22.314056  ]\n",
      " [23.346418  ]\n",
      " [24.378962  ]\n",
      " [25.411491  ]\n",
      " [26.44383   ]\n",
      " [27.475819  ]\n",
      " [28.50733   ]\n",
      " [29.538233  ]\n",
      " [30.568434  ]\n",
      " [31.59784   ]\n",
      " [32.626392  ]\n",
      " [33.654037  ]\n",
      " [34.68073   ]\n",
      " [35.706436  ]\n",
      " [36.731144  ]\n",
      " [37.75484   ]\n",
      " [38.777527  ]\n",
      " [39.799202  ]\n",
      " [40.81989   ]\n",
      " [41.83958   ]\n",
      " [42.85833   ]\n",
      " [43.87613   ]\n",
      " [44.893017  ]\n",
      " [45.909027  ]\n",
      " [46.92418   ]\n",
      " [47.93851   ]\n",
      " [48.952053  ]\n",
      " [49.964836  ]\n",
      " [50.9769    ]\n",
      " [51.988255  ]\n",
      " [52.99896   ]\n",
      " [54.009026  ]\n",
      " [55.018486  ]\n",
      " [56.027393  ]\n",
      " [57.035748  ]\n",
      " [58.0436    ]\n",
      " [59.050953  ]\n",
      " [60.057858  ]\n",
      " [61.064323  ]\n",
      " [62.07038   ]\n",
      " [63.076054  ]\n",
      " [64.08136   ]\n",
      " [65.08633   ]\n",
      " [66.09097   ]\n",
      " [67.09531   ]\n",
      " [68.099365  ]\n",
      " [69.10314   ]\n",
      " [70.106674  ]\n",
      " [71.10996   ]\n",
      " [72.113045  ]\n",
      " [73.115906  ]\n",
      " [74.11857   ]\n",
      " [75.12106   ]\n",
      " [76.123375  ]\n",
      " [77.12552   ]\n",
      " [78.12753   ]\n",
      " [79.12939   ]\n",
      " [80.13112   ]\n",
      " [81.13273   ]\n",
      " [82.13422   ]\n",
      " [83.1356    ]\n",
      " [84.13688   ]\n",
      " [85.13807   ]\n",
      " [86.13916   ]\n",
      " [87.140175  ]\n",
      " [88.14111   ]\n",
      " [89.14198   ]\n",
      " [90.142784  ]\n",
      " [91.143524  ]\n",
      " [92.1442    ]\n",
      " [93.14482   ]\n",
      " [94.14539   ]\n",
      " [95.14592   ]\n",
      " [96.14639   ]\n",
      " [97.14684   ]\n",
      " [98.14724   ]\n",
      " [99.14761   ]]\n"
     ]
    }
   ],
   "source": [
    "import numpy as np\n",
    "import tensorflow as tf\n",
    "from tensorflow.keras.models import Sequential\n",
    "from tensorflow.keras.layers import LSTM, Dense\n",
    "\n",
    "# Sample data: (time_steps, features)\n",
    "data = np.array([[i, i + 1] for i in range(100)])  # Use exp(i / 10) to keep values manageable\n",
    "X = data[:-1]  # All but the last\n",
    "y = data[1:, 0]  # Predict the first feature of the next time step\n",
    "\n",
    "# Reshape data for LSTM: (samples, time steps, features)\n",
    "X = X.reshape((X.shape[0], 1, X.shape[1]))\n",
    "\n",
    "# Build LSTM model\n",
    "model = Sequential()\n",
    "model.add(LSTM(50, activation='relu', input_shape=(X.shape[1], X.shape[2])))\n",
    "model.add(Dense(1))  # Output layer\n",
    "model.compile(optimizer='adam', loss='mean_squared_error')\n",
    "\n",
    "# Define the Keras TensorBoard callback.\n",
    "logdir=\"logs/fit/\" + datetime.now().strftime(\"%Y%m%d-%H%M%S\")\n",
    "tensorboard_callback = keras.callbacks.TensorBoard(log_dir=logdir)\n",
    "\n",
    "# Train the model\n",
    "model.fit(X, y, \n",
    "          epochs=200, \n",
    "          verbose=0,\n",
    "          callbacks=[tensorboard_callback])\n",
    "\n",
    "# Make predictions\n",
    "predictions = model.predict(X)\n",
    "print(predictions)"
   ]
  },
  {
   "cell_type": "code",
   "execution_count": 6,
   "id": "843c1e45",
   "metadata": {},
   "outputs": [
    {
     "name": "stdout",
     "output_type": "stream",
     "text": [
      "\u001b[1m1/1\u001b[0m \u001b[32m━━━━━━━━━━━━━━━━━━━━\u001b[0m\u001b[37m\u001b[0m \u001b[1m0s\u001b[0m 220ms/step\n"
     ]
    },
    {
     "data": {
      "text/plain": [
       "array([[71.10997]], dtype=float32)"
      ]
     },
     "execution_count": 6,
     "metadata": {},
     "output_type": "execute_result"
    }
   ],
   "source": [
    "model.predict(np.array([[70.0, 71.0]]).reshape(1, 1, 2))"
   ]
  },
  {
   "cell_type": "code",
   "execution_count": 7,
   "id": "c228dabb",
   "metadata": {},
   "outputs": [
    {
     "data": {
      "image/png": "[encoded data removed]",
      "text/plain": [
       "<Figure size 864x432 with 1 Axes>"
      ]
     },
     "metadata": {
      "needs_background": "light"
     },
     "output_type": "display_data"
    }
   ],
   "source": [
    "import numpy as np\n",
    "import tensorflow as tf\n",
    "from tensorflow.keras.models import Sequential\n",
    "from tensorflow.keras.layers import SimpleRNN, Dense\n",
    "from datetime import datetime\n",
    "import tensorflow.keras as keras\n",
    "import matplotlib.pyplot as plt\n",
    "\n",
    "# Plot original data and predictions\n",
    "plt.figure(figsize=(12, 6))\n",
    "\n",
    "# Plot original y values\n",
    "plt.plot(y, label='Original y', color='blue')\n",
    "\n",
    "# Plot predictions\n",
    "plt.plot(predictions, label='Predictions', color='red', linestyle='--')\n",
    "\n",
    "# Adding labels and title\n",
    "plt.title('Original y vs Predictions')\n",
    "plt.xlabel('Time Step')\n",
    "plt.ylabel('Value')\n",
    "plt.legend()\n",
    "plt.grid()\n",
    "\n",
    "# Show the plot\n",
    "plt.show()"
   ]
  },
  {
   "cell_type": "code",
   "execution_count": 8,
   "id": "6713309a",
   "metadata": {},
   "outputs": [
    {
     "data": {
      "text/plain": [
       "Reusing TensorBoard on port 6006 (pid 129761), started 0:13:02 ago. (Use '!kill 129761' to kill it.)"
      ]
     },
     "metadata": {},
     "output_type": "display_data"
    },
    {
     "data": {
      "text/html": [
       "\n",
       "      <iframe id=\"tensorboard-frame-f972a08c76b01d4b\" width=\"100%\" height=\"800\" frameborder=\"0\">\n",
       "      </iframe>\n",
       "      <script>\n",
       "        (function() {\n",
       "          const frame = document.getElementById(\"tensorboard-frame-f972a08c76b01d4b\");\n",
       "          const url = new URL(\"/\", window.location);\n",
       "          const port = 6006;\n",
       "          if (port) {\n",
       "            url.port = port;\n",
       "          }\n",
       "          frame.src = url;\n",
       "        })();\n",
       "      </script>\n",
       "    "
      ],
      "text/plain": [
       "<IPython.core.display.HTML object>"
      ]
     },
     "metadata": {},
     "output_type": "display_data"
    }
   ],
   "source": [
    "%tensorboard --logdir logs"
   ]
  }
 ],
 "metadata": {
  "kernelspec": {
   "display_name": "Python 3 (ipykernel)",
   "language": "python",
   "name": "python3"
  },
  "language_info": {
   "codemirror_mode": {
    "name": "ipython",
    "version": 3
   },
   "file_extension": ".py",
   "mimetype": "text/x-python",
   "name": "python",
   "nbconvert_exporter": "python",
   "pygments_lexer": "ipython3",
   "version": "3.9.12"
  }
 },
 "nbformat": 4,
 "nbformat_minor": 5
}
