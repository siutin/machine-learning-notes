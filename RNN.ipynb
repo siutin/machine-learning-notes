{
 "cells": [
  {
   "cell_type": "code",
   "execution_count": 1,
   "id": "1a42fe85",
   "metadata": {},
   "outputs": [
    {
     "data": {
      "text/html": [
       "<style>.container { width:100% !important; }</style>"
      ],
      "text/plain": [
       "<IPython.core.display.HTML object>"
      ]
     },
     "metadata": {},
     "output_type": "display_data"
    }
   ],
   "source": [
    "from IPython.display import display, HTML\n",
    "display(HTML(\"<style>.container { width:100% !important; }</style>\"))"
   ]
  },
  {
   "cell_type": "code",
   "execution_count": 2,
   "id": "8d75084d",
   "metadata": {},
   "outputs": [],
   "source": [
    "# Load the TensorBoard notebook extension.\n",
    "%load_ext tensorboard"
   ]
  },
  {
   "cell_type": "code",
   "execution_count": 3,
   "id": "f9f16fb5",
   "metadata": {},
   "outputs": [
    {
     "name": "stderr",
     "output_type": "stream",
     "text": [
      "2024-09-13 20:32:29.171605: I tensorflow/core/platform/cpu_feature_guard.cc:210] This TensorFlow binary is optimized to use available CPU instructions in performance-critical operations.\n",
      "To enable the following instructions: AVX2 FMA, in other operations, rebuild TensorFlow with the appropriate compiler flags.\n",
      "/home/martin/miniconda3/envs/jupyter/lib/python3.9/site-packages/scipy/__init__.py:146: UserWarning: A NumPy version >=1.17.3 and <1.25.0 is required for this version of SciPy (detected version 1.26.4\n",
      "  warnings.warn(f\"A NumPy version >={np_minversion} and <{np_maxversion}\"\n"
     ]
    },
    {
     "name": "stdout",
     "output_type": "stream",
     "text": [
      "TensorFlow version:  2.17.0\n"
     ]
    }
   ],
   "source": [
    "from datetime import datetime\n",
    "from packaging import version\n",
    "\n",
    "import tensorflow as tf\n",
    "from tensorflow import keras\n",
    "\n",
    "print(\"TensorFlow version: \", tf.__version__)\n",
    "assert version.parse(tf.__version__).release[0] >= 2, \\\n",
    "    \"This notebook requires TensorFlow 2.0 or above.\""
   ]
  },
  {
   "cell_type": "code",
   "execution_count": 4,
   "id": "d29e0a12",
   "metadata": {},
   "outputs": [
    {
     "data": {
      "text/plain": [
       "'2.17.1'"
      ]
     },
     "execution_count": 4,
     "metadata": {},
     "output_type": "execute_result"
    }
   ],
   "source": [
    "import tensorboard\n",
    "tensorboard.__version__"
   ]
  },
  {
   "cell_type": "code",
   "execution_count": 5,
   "id": "b76eed97",
   "metadata": {
    "scrolled": true
   },
   "outputs": [
    {
     "name": "stderr",
     "output_type": "stream",
     "text": [
      "/home/martin/miniconda3/envs/jupyter/lib/python3.9/site-packages/keras/src/layers/rnn/rnn.py:204: UserWarning: Do not pass an `input_shape`/`input_dim` argument to a layer. When using Sequential models, prefer using an `Input(shape)` object as the first layer in the model instead.\n",
      "  super().__init__(**kwargs)\n"
     ]
    },
    {
     "name": "stdout",
     "output_type": "stream",
     "text": [
      "\u001b[1m4/4\u001b[0m \u001b[32m━━━━━━━━━━━━━━━━━━━━\u001b[0m\u001b[37m\u001b[0m \u001b[1m0s\u001b[0m 61ms/step\n",
      "[[ 1.2758772]\n",
      " [ 2.2716289]\n",
      " [ 3.2673807]\n",
      " [ 4.2631326]\n",
      " [ 5.258884 ]\n",
      " [ 6.2546363]\n",
      " [ 7.2503877]\n",
      " [ 8.246139 ]\n",
      " [ 9.241891 ]\n",
      " [10.237643 ]\n",
      " [11.233396 ]\n",
      " [12.229147 ]\n",
      " [13.224898 ]\n",
      " [14.22065  ]\n",
      " [15.216402 ]\n",
      " [16.212154 ]\n",
      " [17.207907 ]\n",
      " [18.20366  ]\n",
      " [19.19941  ]\n",
      " [20.195162 ]\n",
      " [21.190914 ]\n",
      " [22.186665 ]\n",
      " [23.182417 ]\n",
      " [24.17817  ]\n",
      " [25.17392  ]\n",
      " [26.16967  ]\n",
      " [27.165424 ]\n",
      " [28.161175 ]\n",
      " [29.156929 ]\n",
      " [30.15268  ]\n",
      " [31.148432 ]\n",
      " [32.14418  ]\n",
      " [33.139935 ]\n",
      " [34.13569  ]\n",
      " [35.13144  ]\n",
      " [36.127193 ]\n",
      " [37.12294  ]\n",
      " [38.118694 ]\n",
      " [39.114445 ]\n",
      " [40.110195 ]\n",
      " [41.10595  ]\n",
      " [42.1017   ]\n",
      " [43.097454 ]\n",
      " [44.09321  ]\n",
      " [45.08896  ]\n",
      " [46.08471  ]\n",
      " [47.08046  ]\n",
      " [48.07621  ]\n",
      " [49.071964 ]\n",
      " [50.067715 ]\n",
      " [51.06347  ]\n",
      " [52.05922  ]\n",
      " [53.05497  ]\n",
      " [54.050724 ]\n",
      " [55.04648  ]\n",
      " [56.04223  ]\n",
      " [57.03798  ]\n",
      " [58.03373  ]\n",
      " [59.029484 ]\n",
      " [60.025234 ]\n",
      " [61.02099  ]\n",
      " [62.01674  ]\n",
      " [63.01249  ]\n",
      " [64.00824  ]\n",
      " [65.00399  ]\n",
      " [65.99974  ]\n",
      " [66.9955   ]\n",
      " [67.99125  ]\n",
      " [68.987    ]\n",
      " [69.98275  ]\n",
      " [70.97851  ]\n",
      " [71.97426  ]\n",
      " [72.97001  ]\n",
      " [73.96576  ]\n",
      " [74.96151  ]\n",
      " [75.95727  ]\n",
      " [76.95301  ]\n",
      " [77.94877  ]\n",
      " [78.94452  ]\n",
      " [79.94027  ]\n",
      " [80.93603  ]\n",
      " [81.93177  ]\n",
      " [82.92752  ]\n",
      " [83.92328  ]\n",
      " [84.91903  ]\n",
      " [85.91479  ]\n",
      " [86.91053  ]\n",
      " [87.90628  ]\n",
      " [88.90203  ]\n",
      " [89.89779  ]\n",
      " [90.89354  ]\n",
      " [91.88929  ]\n",
      " [92.88504  ]\n",
      " [93.88079  ]\n",
      " [94.87655  ]\n",
      " [95.8723   ]\n",
      " [96.86805  ]\n",
      " [97.8638   ]\n",
      " [98.85955  ]]\n"
     ]
    }
   ],
   "source": [
    "import numpy as np\n",
    "import tensorflow as tf\n",
    "from tensorflow.keras.models import Sequential\n",
    "from tensorflow.keras.layers import SimpleRNN, Dense\n",
    "from datetime import datetime\n",
    "import tensorflow.keras as keras\n",
    "\n",
    "# Generate sample data\n",
    "data = np.array([[i, i + 1] for i in range(100)])  # Use exp(i / 10) to keep values manageable\n",
    "X = data[:-1]  # All but the last\n",
    "y = data[1:, 0]  # Predict the first feature of the next time step\n",
    "\n",
    "# Reshape data for RNN: (samples, time steps, features)\n",
    "X = X.reshape((X.shape[0], 1, X.shape[1]))\n",
    "\n",
    "# Build RNN model\n",
    "model = Sequential()\n",
    "model.add(SimpleRNN(10, activation='relu', input_shape=(X.shape[1], X.shape[2])))\n",
    "model.add(Dense(1))  # Output layer\n",
    "model.compile(optimizer='adam', loss='mean_squared_error')\n",
    "\n",
    "# Define the Keras TensorBoard callback.\n",
    "logdir = \"logs/fit/\" + datetime.now().strftime(\"%Y%m%d-%H%M%S\")\n",
    "tensorboard_callback = keras.callbacks.TensorBoard(log_dir=logdir)\n",
    "\n",
    "# Train the model\n",
    "model.fit(X, y, epochs=200, verbose=0, callbacks=[tensorboard_callback])\n",
    "\n",
    "# Make predictions\n",
    "predictions = model.predict(X)\n",
    "print(predictions)"
   ]
  },
  {
   "cell_type": "code",
   "execution_count": 6,
   "id": "a532b9d0",
   "metadata": {
    "scrolled": true
   },
   "outputs": [
    {
     "name": "stdout",
     "output_type": "stream",
     "text": [
      "\u001b[1m1/1\u001b[0m \u001b[32m━━━━━━━━━━━━━━━━━━━━\u001b[0m\u001b[37m\u001b[0m \u001b[1m0s\u001b[0m 192ms/step\n"
     ]
    },
    {
     "data": {
      "text/plain": [
       "array([[70.97851]], dtype=float32)"
      ]
     },
     "execution_count": 6,
     "metadata": {},
     "output_type": "execute_result"
    }
   ],
   "source": [
    "model.predict(np.array([[70.0, 71.0]]).reshape(1, 1, 2))"
   ]
  },
  {
   "cell_type": "code",
   "execution_count": 7,
   "id": "ca961ef5",
   "metadata": {},
   "outputs": [
    {
     "data": {
      "image/png": "[encoded data removed]",
      "text/plain": [
       "<Figure size 864x432 with 1 Axes>"
      ]
     },
     "metadata": {
      "needs_background": "light"
     },
     "output_type": "display_data"
    }
   ],
   "source": [
    "import numpy as np\n",
    "import tensorflow as tf\n",
    "from tensorflow.keras.models import Sequential\n",
    "from tensorflow.keras.layers import SimpleRNN, Dense\n",
    "from datetime import datetime\n",
    "import tensorflow.keras as keras\n",
    "import matplotlib.pyplot as plt\n",
    "\n",
    "# Plot original data and predictions\n",
    "plt.figure(figsize=(12, 6))\n",
    "\n",
    "# Plot original y values\n",
    "plt.plot(y, label='Original y', color='blue')\n",
    "\n",
    "# Plot predictions\n",
    "plt.plot(predictions, label='Predictions', color='red', linestyle='--')\n",
    "\n",
    "# Adding labels and title\n",
    "plt.title('Original y vs Predictions')\n",
    "plt.xlabel('Time Step')\n",
    "plt.ylabel('Value')\n",
    "plt.legend()\n",
    "plt.grid()\n",
    "\n",
    "# Show the plot\n",
    "plt.show()"
   ]
  },
  {
   "cell_type": "code",
   "execution_count": 8,
   "id": "6713309a",
   "metadata": {},
   "outputs": [
    {
     "data": {
      "text/plain": [
       "Reusing TensorBoard on port 6006 (pid 129761), started 0:14:32 ago. (Use '!kill 129761' to kill it.)"
      ]
     },
     "metadata": {},
     "output_type": "display_data"
    },
    {
     "data": {
      "text/html": [
       "\n",
       "      <iframe id=\"tensorboard-frame-1eb5095e3612c213\" width=\"100%\" height=\"800\" frameborder=\"0\">\n",
       "      </iframe>\n",
       "      <script>\n",
       "        (function() {\n",
       "          const frame = document.getElementById(\"tensorboard-frame-1eb5095e3612c213\");\n",
       "          const url = new URL(\"/\", window.location);\n",
       "          const port = 6006;\n",
       "          if (port) {\n",
       "            url.port = port;\n",
       "          }\n",
       "          frame.src = url;\n",
       "        })();\n",
       "      </script>\n",
       "    "
      ],
      "text/plain": [
       "<IPython.core.display.HTML object>"
      ]
     },
     "metadata": {},
     "output_type": "display_data"
    }
   ],
   "source": [
    "%tensorboard --logdir logs"
   ]
  }
 ],
 "metadata": {
  "kernelspec": {
   "display_name": "Python 3 (ipykernel)",
   "language": "python",
   "name": "python3"
  },
  "language_info": {
   "codemirror_mode": {
    "name": "ipython",
    "version": 3
   },
   "file_extension": ".py",
   "mimetype": "text/x-python",
   "name": "python",
   "nbconvert_exporter": "python",
   "pygments_lexer": "ipython3",
   "version": "3.9.12"
  }
 },
 "nbformat": 4,
 "nbformat_minor": 5
}
